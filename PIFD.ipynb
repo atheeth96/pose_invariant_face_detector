{
 "cells": [
  {
   "cell_type": "code",
   "execution_count": 2,
   "metadata": {},
   "outputs": [],
   "source": [
    "\n",
    "import warnings\n",
    "warnings.filterwarnings('ignore')\n",
    "import datetime\n",
    "from torch.utils.data import Dataset\n",
    "from skimage.transform import resize\n",
    "\n",
    "from zipfile import ZipFile\n",
    "import os\n",
    "import torch\n",
    "\n",
    "import torchvision\n",
    "import torch.nn as nn\n",
    "from torch.utils.data import DataLoader\n",
    "from Dataset import FaceDataset,Scale,ToTensor\n",
    "from Models import resblock,network_9layers,network_29layers,network_29layers_v2,save_model\n",
    "from losses import TripletLoss\n",
    "import skimage\n",
    "from skimage.io import imread,imsave\n",
    "import matplotlib.pyplot as plt\n",
    "import numpy as np\n",
    "from tqdm import tqdm_notebook as tqdm \n",
    "from torch.utils.tensorboard import SummaryWriter\n",
    "import torch.nn.functional as F\n",
    "import os\n",
    "import shutil\n",
    "import random\n",
    "import pandas as pd"
   ]
  },
  {
   "cell_type": "code",
   "execution_count": 17,
   "metadata": {},
   "outputs": [
    {
     "name": "stdout",
     "output_type": "stream",
     "text": [
      "torch.Size([32, 256]) torch.Size([32, 32]) torch.Size([32])\n",
      "torch.Size([32, 1]) torch.Size([32, 32])\n",
      "tensor([[  0.0000, 481.6660, 507.1423,  ..., 483.9155, 470.4411, 446.1161],\n",
      "        [481.6660,   0.0000, 520.0730,  ..., 512.0319, 529.1748, 455.2528],\n",
      "        [507.1423, 520.0730,   0.0000,  ..., 520.1583, 572.6542, 507.6129],\n",
      "        ...,\n",
      "        [483.9155, 512.0319, 520.1583,  ...,   0.0000, 517.0218, 437.5637],\n",
      "        [470.4411, 529.1748, 572.6542,  ..., 517.0219,   0.0000, 486.9256],\n",
      "        [446.1161, 455.2528, 507.6129,  ..., 437.5637, 486.9256,   0.0000]])\n"
     ]
    }
   ],
   "source": [
    "a=torch.randn((32,256))\n",
    "b=torch.matmul(a, a.T)\n",
    "b2 = torch.diagonal(b,0)\n",
    "print(a.size(),b.size(),b2.size())\n",
    "distances =b2.unsqueeze(0)- 2.0 * b + b2.unsqueeze(1)\n",
    "print(b2.unsqueeze(1).size(),distances.size())\n",
    "print(distances)"
   ]
  },
  {
   "cell_type": "code",
   "execution_count": 21,
   "metadata": {},
   "outputs": [
    {
     "name": "stdout",
     "output_type": "stream",
     "text": [
      "torch.Size([32, 32])\n",
      "tensor([[12345556., 12345556., 12345556.,  ..., 12345556., 12345556.,\n",
      "         12345556.],\n",
      "        [12345556., 12345556., 12345556.,  ..., 12345556., 12345556.,\n",
      "         12345556.],\n",
      "        [12345556., 12345556., 12345556.,  ..., 12345556., 12345556.,\n",
      "         12345556.],\n",
      "        ...,\n",
      "        [12345556., 12345556., 12345556.,  ..., 12345556., 12345556.,\n",
      "         12345556.],\n",
      "        [12345556., 12345556., 12345556.,  ..., 12345556., 12345556.,\n",
      "         12345556.],\n",
      "        [12345556., 12345556., 12345556.,  ..., 12345556., 12345556.,\n",
      "         12345556.]])\n"
     ]
    }
   ],
   "source": [
    "distances = torch.max(distances, torch.tensor([0.0]))\n",
    "print(distances.size())\n",
    "print(distances)"
   ]
  },
  {
   "cell_type": "markdown",
   "metadata": {},
   "source": [
    "# Generate Train and test data (Segregation)"
   ]
  },
  {
   "cell_type": "code",
   "execution_count": 1,
   "metadata": {},
   "outputs": [
    {
     "name": "stdout",
     "output_type": "stream",
     "text": [
      "The history saving thread hit an unexpected error (DatabaseError('database disk image is malformed',)).History will not be written to the database.\n"
     ]
    },
    {
     "ename": "NameError",
     "evalue": "name 'pd' is not defined",
     "output_type": "error",
     "traceback": [
      "\u001b[0;31m---------------------------------------------------------------------------\u001b[0m",
      "\u001b[0;31mNameError\u001b[0m                                 Traceback (most recent call last)",
      "\u001b[0;32m<ipython-input-1-d0f582084113>\u001b[0m in \u001b[0;36m<module>\u001b[0;34m\u001b[0m\n\u001b[0;32m----> 1\u001b[0;31m \u001b[0mdf\u001b[0m\u001b[0;34m=\u001b[0m\u001b[0mpd\u001b[0m\u001b[0;34m.\u001b[0m\u001b[0mread_csv\u001b[0m\u001b[0;34m(\u001b[0m\u001b[0;34m'image_data.csv'\u001b[0m\u001b[0;34m)\u001b[0m\u001b[0;34m\u001b[0m\u001b[0;34m\u001b[0m\u001b[0m\n\u001b[0m\u001b[1;32m      2\u001b[0m \u001b[0mprint\u001b[0m\u001b[0;34m(\u001b[0m\u001b[0mlen\u001b[0m\u001b[0;34m(\u001b[0m\u001b[0mdf\u001b[0m\u001b[0;34m)\u001b[0m\u001b[0;34m)\u001b[0m\u001b[0;34m\u001b[0m\u001b[0;34m\u001b[0m\u001b[0m\n\u001b[1;32m      3\u001b[0m \u001b[0mdf_train\u001b[0m\u001b[0;34m=\u001b[0m\u001b[0mpd\u001b[0m\u001b[0;34m.\u001b[0m\u001b[0mread_csv\u001b[0m\u001b[0;34m(\u001b[0m\u001b[0;34m'train.csv'\u001b[0m\u001b[0;34m)\u001b[0m\u001b[0;34m\u001b[0m\u001b[0;34m\u001b[0m\u001b[0m\n\u001b[1;32m      4\u001b[0m \u001b[0mprint\u001b[0m\u001b[0;34m(\u001b[0m\u001b[0mlen\u001b[0m\u001b[0;34m(\u001b[0m\u001b[0mdf_train\u001b[0m\u001b[0;34m)\u001b[0m\u001b[0;34m)\u001b[0m\u001b[0;34m\u001b[0m\u001b[0;34m\u001b[0m\u001b[0m\n\u001b[1;32m      5\u001b[0m \u001b[0mdf_test\u001b[0m\u001b[0;34m=\u001b[0m\u001b[0mpd\u001b[0m\u001b[0;34m.\u001b[0m\u001b[0mread_csv\u001b[0m\u001b[0;34m(\u001b[0m\u001b[0;34m'test.csv'\u001b[0m\u001b[0;34m)\u001b[0m\u001b[0;34m\u001b[0m\u001b[0;34m\u001b[0m\u001b[0m\n",
      "\u001b[0;31mNameError\u001b[0m: name 'pd' is not defined"
     ]
    }
   ],
   "source": [
    "df=pd.read_csv('image_data.csv')\n",
    "print(len(df))\n",
    "df_train=pd.read_csv('train.csv')\n",
    "print(len(df_train))\n",
    "df_test=pd.read_csv('test.csv')\n",
    "print(len(df_test))"
   ]
  },
  {
   "cell_type": "code",
   "execution_count": null,
   "metadata": {},
   "outputs": [],
   "source": [
    "\n",
    "# label_list=list(set(df.Label))\n",
    "# train_labels=random.sample(label_list,int(0.8*len(label_list)))\n",
    "# test_labels=list(set(label_list)-set(train_labels))\n",
    "\n",
    "# print(len(label_list),len(train_labels),len(test_labels))\n",
    "# df_train=df[df.Label.isin(train_labels)]\n",
    "# df_test=df[df.Label.isin(test_labels)]\n",
    "# print(len(df),'\\n',len(df_train),'\\n',len(df_test))\n",
    "# df_train.to_csv('train.csv',index=False)\n",
    "# df_test.to_csv('test.csv',index=False)"
   ]
  },
  {
   "cell_type": "markdown",
   "metadata": {},
   "source": [
    "# Light CNN\n"
   ]
  },
  {
   "cell_type": "code",
   "execution_count": null,
   "metadata": {},
   "outputs": [],
   "source": [
    "transform=torchvision.transforms.Compose([Scale(),ToTensor()])\n",
    "\n",
    "train_dataset=FaceDataset('img_align_celeba','train.csv',transform)\n",
    "train_loader=DataLoader(train_dataset,batch_size=32,shuffle=True)\n",
    "test_dataset=FaceDataset('img_align_celeba','test.csv',transform)\n",
    "test_loader=DataLoader(test_dataset,batch_size=32,shuffle=False)\n",
    "print(test_loader.__len__())\n",
    "print(train_loader.__len__())"
   ]
  },
  {
   "cell_type": "markdown",
   "metadata": {},
   "source": [
    "# PROBLEM WITH DATASET"
   ]
  },
  {
   "cell_type": "code",
   "execution_count": null,
   "metadata": {},
   "outputs": [],
   "source": [
    "def visualize_loader(loader):\n",
    "    for i,sample in enumerate(loader):\n",
    "        #print(sample['image'].shape)\n",
    "        if i==1:\n",
    "            index=0\n",
    "            \n",
    "            image=(sample['image'][index]).numpy()\n",
    "            \n",
    "            \n",
    "            #image=np.zeros(image_i.shape,dtype=np.uint8)\n",
    "            #image[np.where(image_i!=0)]=255\n",
    "\n",
    "            label=(sample['label'][index]).numpy()\n",
    "            \n",
    "            image=np.squeeze(image.transpose(1,2,0),axis=2)\n",
    "            \n",
    "            \n",
    "            print(label)\n",
    "            fig=plt.figure()\n",
    "            plt.imshow(image,cmap='gray')\n",
    "            \n",
    "           \n",
    "           \n",
    "            break\n",
    "visualize_loader(test_loader)"
   ]
  },
  {
   "cell_type": "code",
   "execution_count": 3,
   "metadata": {},
   "outputs": [
    {
     "name": "stdout",
     "output_type": "stream",
     "text": [
      "model_2020_01_16 dir has been made\n",
      "Model's state_dict:\n",
      "conv1.filter.weight \t torch.Size([96, 1, 5, 5])\n",
      "conv1.filter.bias \t torch.Size([96])\n",
      "block1.0.conv1.filter.weight \t torch.Size([96, 48, 3, 3])\n",
      "block1.0.conv1.filter.bias \t torch.Size([96])\n",
      "block1.0.conv2.filter.weight \t torch.Size([96, 48, 3, 3])\n",
      "block1.0.conv2.filter.bias \t torch.Size([96])\n",
      "group1.conv_a.filter.weight \t torch.Size([96, 48, 1, 1])\n",
      "group1.conv_a.filter.bias \t torch.Size([96])\n",
      "group1.conv.filter.weight \t torch.Size([192, 48, 3, 3])\n",
      "group1.conv.filter.bias \t torch.Size([192])\n",
      "block2.0.conv1.filter.weight \t torch.Size([192, 96, 3, 3])\n",
      "block2.0.conv1.filter.bias \t torch.Size([192])\n",
      "block2.0.conv2.filter.weight \t torch.Size([192, 96, 3, 3])\n",
      "block2.0.conv2.filter.bias \t torch.Size([192])\n",
      "block2.1.conv1.filter.weight \t torch.Size([192, 96, 3, 3])\n",
      "block2.1.conv1.filter.bias \t torch.Size([192])\n",
      "block2.1.conv2.filter.weight \t torch.Size([192, 96, 3, 3])\n",
      "block2.1.conv2.filter.bias \t torch.Size([192])\n",
      "group2.conv_a.filter.weight \t torch.Size([192, 96, 1, 1])\n",
      "group2.conv_a.filter.bias \t torch.Size([192])\n",
      "group2.conv.filter.weight \t torch.Size([384, 96, 3, 3])\n",
      "group2.conv.filter.bias \t torch.Size([384])\n",
      "block3.0.conv1.filter.weight \t torch.Size([384, 192, 3, 3])\n",
      "block3.0.conv1.filter.bias \t torch.Size([384])\n",
      "block3.0.conv2.filter.weight \t torch.Size([384, 192, 3, 3])\n",
      "block3.0.conv2.filter.bias \t torch.Size([384])\n",
      "block3.1.conv1.filter.weight \t torch.Size([384, 192, 3, 3])\n",
      "block3.1.conv1.filter.bias \t torch.Size([384])\n",
      "block3.1.conv2.filter.weight \t torch.Size([384, 192, 3, 3])\n",
      "block3.1.conv2.filter.bias \t torch.Size([384])\n",
      "block3.2.conv1.filter.weight \t torch.Size([384, 192, 3, 3])\n",
      "block3.2.conv1.filter.bias \t torch.Size([384])\n",
      "block3.2.conv2.filter.weight \t torch.Size([384, 192, 3, 3])\n",
      "block3.2.conv2.filter.bias \t torch.Size([384])\n",
      "group3.conv_a.filter.weight \t torch.Size([384, 192, 1, 1])\n",
      "group3.conv_a.filter.bias \t torch.Size([384])\n",
      "group3.conv.filter.weight \t torch.Size([256, 192, 3, 3])\n",
      "group3.conv.filter.bias \t torch.Size([256])\n",
      "block4.0.conv1.filter.weight \t torch.Size([256, 128, 3, 3])\n",
      "block4.0.conv1.filter.bias \t torch.Size([256])\n",
      "block4.0.conv2.filter.weight \t torch.Size([256, 128, 3, 3])\n",
      "block4.0.conv2.filter.bias \t torch.Size([256])\n",
      "block4.1.conv1.filter.weight \t torch.Size([256, 128, 3, 3])\n",
      "block4.1.conv1.filter.bias \t torch.Size([256])\n",
      "block4.1.conv2.filter.weight \t torch.Size([256, 128, 3, 3])\n",
      "block4.1.conv2.filter.bias \t torch.Size([256])\n",
      "block4.2.conv1.filter.weight \t torch.Size([256, 128, 3, 3])\n",
      "block4.2.conv1.filter.bias \t torch.Size([256])\n",
      "block4.2.conv2.filter.weight \t torch.Size([256, 128, 3, 3])\n",
      "block4.2.conv2.filter.bias \t torch.Size([256])\n",
      "block4.3.conv1.filter.weight \t torch.Size([256, 128, 3, 3])\n",
      "block4.3.conv1.filter.bias \t torch.Size([256])\n",
      "block4.3.conv2.filter.weight \t torch.Size([256, 128, 3, 3])\n",
      "block4.3.conv2.filter.bias \t torch.Size([256])\n",
      "group4.conv_a.filter.weight \t torch.Size([256, 128, 1, 1])\n",
      "group4.conv_a.filter.bias \t torch.Size([256])\n",
      "group4.conv.filter.weight \t torch.Size([256, 128, 3, 3])\n",
      "group4.conv.filter.bias \t torch.Size([256])\n",
      "fc.weight \t torch.Size([256, 8192])\n",
      "fc.bias \t torch.Size([256])\n"
     ]
    }
   ],
   "source": [
    "block=resblock\n",
    "model=network_29layers_v2(block, [1, 2, 3, 4])\n",
    "\n",
    "model_start_date=datetime.datetime.now().strftime(\"%Y_%m_%d\")\n",
    "BEST_MODEL_PATH=os.path.join(os.getcwd(),'model_{}'.format(model_start_date))\n",
    "if not os.path.exists(BEST_MODEL_PATH):\n",
    "    os.mkdir(BEST_MODEL_PATH)\n",
    "    print('model_{} dir has been made'.format(model_start_date))\n",
    "print(\"Model's state_dict:\")\n",
    "writer = SummaryWriter('model_{}/m2fpa_experiment_{}'.format(model_start_date,1))\n",
    "for param_tensor in model.state_dict():\n",
    "    print(param_tensor, \"\\t\", model.state_dict()[param_tensor].size())\n",
    "\n"
   ]
  },
  {
   "cell_type": "code",
   "execution_count": 4,
   "metadata": {},
   "outputs": [
    {
     "name": "stdout",
     "output_type": "stream",
     "text": [
      "torch.Size([32, 256])\n"
     ]
    }
   ],
   "source": [
    "a=torch.ones((32,1,128,128))\n",
    "b=model(a)\n",
    "print(b.size())"
   ]
  },
  {
   "cell_type": "code",
   "execution_count": null,
   "metadata": {},
   "outputs": [],
   "source": [
    "print(torch.cuda.get_device_name(torch.cuda.current_device()))\n",
    "optimizer_selected='adam'\n",
    "batchsize=4\n",
    "no_steps=train_dataset.__len__()//batchsize\n",
    "restart_epochs=8\n",
    "num_epochs=10\n",
    "device = torch.device(\"cuda:0\" if torch.cuda.is_available() else \"cpu\")\n",
    "\n",
    "\n",
    "criterion=TripletLoss(margin=8.4,device=device ,squared=False,batch_all=False)\n",
    "\n",
    "model = model.to(device)\n",
    "\n",
    "\n",
    "\n",
    "if optimizer_selected=='adam':\n",
    "    optimizer = torch.optim.Adam(model.parameters(),lr=10e-03, betas=(0.9, 0.98),weight_decay=0.02)\n",
    "else:\n",
    "    optimizer = torch.optim.SGD(model.parameters(),lr=10e-03, momentum=0.8,nesterov=True)\n",
    "\n",
    "scheduler=torch.optim.lr_scheduler.CosineAnnealingLR(optimizer, restart_epochs*no_steps,\\\n",
    "                                                     eta_min=10e-012, last_epoch=-1)\n",
    "\n",
    "best_val=10e06\n",
    "for epoch in range(num_epochs):\n",
    "    loop=tqdm(train_loader)\n",
    "    print(\"Learning Rate : {}\".format(optimizer.state_dict()['param_groups'][-1]['lr']))\n",
    "    # loop over the dataset multiple times\n",
    "    \n",
    "\n",
    "    for mode in ['train','eval']:\n",
    "     \n",
    "        if mode == 'train':\n",
    "            \n",
    "            running_loss = 0.0\n",
    "            model.train()\n",
    "\n",
    "            for i, sample_batched in (enumerate(loop)):\n",
    "                loop.set_description('Epoch {}/{}'.format(epoch + 1, num_epochs))\n",
    "                #print(\"epoch {},iter {}\".format(epoch,i))\n",
    "\n",
    "                # zero the parameter gradients\n",
    "\n",
    "                optimizer.zero_grad()\n",
    "                # get the inputs; data is a list of [inputs, labels]\n",
    "                image_batch, labels_batch = sample_batched['image'],sample_batched['label']\n",
    "                \n",
    "                image_batch, labels_batch = image_batch.to(device, dtype = torch.float)\\\n",
    "                ,labels_batch.to(device, dtype = torch.float)\n",
    "\n",
    "                # forward + backward + optimize\n",
    "                \n",
    "                embeddings_train=model(image_batch)\n",
    "                #outputs = torch.sigmoid()\n",
    "                \n",
    "                loss = criterion(labels_batch,embeddings_train,)\n",
    "        \n",
    "                loss.backward()\n",
    "                optimizer.step()\n",
    "                \n",
    "                scheduler.step()\n",
    "\n",
    "                    \n",
    "                loop.set_postfix(train_loss=loss.detach().item())\n",
    "                \n",
    "                 \n",
    "                    \n",
    "        elif mode =='eval':\n",
    "            optimizer.zero_grad()\n",
    "            samples_test=len(test_loader)\n",
    "            model.eval()\n",
    "            final_test_loss=0\n",
    "            \n",
    "            for j, test_sample in enumerate(test_loader):\n",
    "                \n",
    "                optimizer.zero_grad()\n",
    "                # get the inputs; data is a list of [inputs, labels]\n",
    "                image_batch_test, label_batch_test = test_sample['image'],test_sample['label']\n",
    "                image_batch_test, label_batch_test,neg_batch_test = image_batch_test.to(device, dtype = torch.float)\\\n",
    "                ,label_batch_test.to(device, dtype = torch.float)\n",
    "\n",
    "                # forward + backward + optimize\n",
    "                embeddings=model(image_batch_test)\n",
    "                \n",
    "                \n",
    "                #outputs = torch.sigmoid()\n",
    "                \n",
    "                test_loss = criterion(label_batch_test,embeddings)\n",
    "        \n",
    "                \n",
    "                final_test_loss+=test_loss.detach().item()\n",
    "                \n",
    "                if j%100==99:\n",
    "                    writer.add_scalar('testing loss',test_loss.detach().item(),epoch * len(test_loader) + j)\n",
    "                \n",
    "            print(\"final test_loss: {}\".format(final_test_loss/(j+1)))\n",
    "            \n",
    "            if final_test_loss/(j+1)<best_val:\n",
    "                best_val=final_test_loss/(j+1)\n",
    "                name=BEST_MODEL_PATH+'/model_optim.pth'\n",
    "                save_model(model,optimizer,name,scheduler=None)\n",
    "                print(\"saved model with test dice score: {}\".format(best_val))\n",
    "\n",
    "name=BEST_MODEL_PATH+'/model_final.pth'\n",
    "save_model(model,optimizer,name,scheduler=None)\n",
    "        \n",
    "        \n",
    "\n",
    "print('Finished Training')\n",
    "\n"
   ]
  },
  {
   "cell_type": "markdown",
   "metadata": {},
   "source": [
    "# M2GAN"
   ]
  },
  {
   "cell_type": "code",
   "execution_count": null,
   "metadata": {},
   "outputs": [],
   "source": [
    "class conv_block(nn.Module):\n",
    "    def __init__(self,channel_in,channel_out,kernel_size,padding,stride):\n",
    "        super().__init__()\n",
    "        self.conv=nn.Sequential(nn.Conv2d(channel_in,channel_out,kernel_size=kernel_size,stride=stride,padding=padding,bias=True),\n",
    "                                nn.BatchNorm2d(channel_out),\n",
    "                                nn.ReLU(inplace=True))\n",
    "    \n",
    "    def forward(self,x):\n",
    "        x=self.conv(x)\n",
    "        return x\n",
    "\n",
    "# class de_conv\n"
   ]
  },
  {
   "cell_type": "code",
   "execution_count": null,
   "metadata": {},
   "outputs": [],
   "source": [
    "\n",
    "a = torch.randn(4, 4).to(device)\n",
    "print(a.device)\n",
    "torch.max(a, 1).values"
   ]
  },
  {
   "cell_type": "code",
   "execution_count": null,
   "metadata": {},
   "outputs": [],
   "source": [
    "torch.max(torch.tensor([1.0]), torch.tensor([0.0]))"
   ]
  },
  {
   "cell_type": "code",
   "execution_count": null,
   "metadata": {},
   "outputs": [],
   "source": []
  }
 ],
 "metadata": {
  "kernelspec": {
   "display_name": "Python 3",
   "language": "python",
   "name": "python3"
  },
  "language_info": {
   "codemirror_mode": {
    "name": "ipython",
    "version": 3
   },
   "file_extension": ".py",
   "mimetype": "text/x-python",
   "name": "python",
   "nbconvert_exporter": "python",
   "pygments_lexer": "ipython3",
   "version": "3.6.7"
  }
 },
 "nbformat": 4,
 "nbformat_minor": 2
}
